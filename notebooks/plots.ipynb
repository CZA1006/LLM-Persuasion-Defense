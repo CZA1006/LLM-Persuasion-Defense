{
 "cells": [
  {
   "cell_type": "markdown",
   "id": "e226d703",
   "metadata": {},
   "source": [
    "# LLM-Persuasion-Defense — Plots (Robust Paths)\n",
    "\n",
    "This notebook loads ablation CSVs and produces figures.\n",
    "It now **auto-detects** whether you're running from the repo root or `notebooks/` by probing several base paths.\n"
   ]
  },
  {
   "cell_type": "code",
   "execution_count": 2,
   "id": "172ccaad",
   "metadata": {},
   "outputs": [
    {
     "name": "stdout",
     "output_type": "stream",
     "text": [
      "Plots will be saved to: /Users/caizhuoang/Desktop/HKUST/Year 2/MSBD6910/LLM-Persuasion-Defense/notebooks/results/plots\n"
     ]
    }
   ],
   "source": [
    "\n",
    "import os, glob\n",
    "from pathlib import Path\n",
    "import pandas as pd\n",
    "import matplotlib.pyplot as plt\n",
    "\n",
    "# Candidate base paths (current folder, parent, grandparent)\n",
    "BASES = [Path.cwd(), Path.cwd().parent, Path.cwd().parent.parent]\n",
    "\n",
    "def find_files(pattern_rel: str):\n",
    "    \"\"\"\n",
    "    Search for files matching a pattern under multiple base paths.\n",
    "    pattern_rel is relative to the repo root (e.g., 'results/abl_turns_none_*.csv').\n",
    "    \"\"\"\n",
    "    found = []\n",
    "    for base in BASES:\n",
    "        pattern = base / pattern_rel\n",
    "        files = sorted(glob.glob(str(pattern)))\n",
    "        if files:\n",
    "            print(f\"[INFO] Found {len(files)} files for {pattern_rel} under {base}\")\n",
    "            found.extend(files)\n",
    "    if not found:\n",
    "        print(f\"[WARN] No files matched across bases: {pattern_rel}\")\n",
    "    return found\n",
    "\n",
    "def load_csvs_multi(pattern_rel: str):\n",
    "    files = find_files(pattern_rel)\n",
    "    if not files:\n",
    "        return pd.DataFrame()\n",
    "    dfs = []\n",
    "    for f in files:\n",
    "        try:\n",
    "            df = pd.read_csv(f)\n",
    "            df[\"__file__\"] = f\n",
    "            dfs.append(df)\n",
    "        except Exception as e:\n",
    "            print(f\"[WARN] Failed to read {f}: {e}\")\n",
    "    return pd.concat(dfs, ignore_index=True) if dfs else pd.DataFrame()\n",
    "\n",
    "def agg_turns(df: pd.DataFrame):\n",
    "    if df.empty:\n",
    "        return pd.DataFrame()\n",
    "    grp = df.groupby([\"defense\",\"max_turns\"], as_index=False).agg({\n",
    "        \"PSR\":\"mean\",\n",
    "        \"RA\":\"mean\",\n",
    "        \"LocAcc\":\"mean\",\n",
    "        \"id\":\"count\",\n",
    "    }).rename(columns={\"id\":\"N\"})\n",
    "    grp[\"PSR_pct\"] = grp[\"PSR\"]*100.0\n",
    "    grp[\"RA_pct\"]  = grp[\"RA\"]*100.0\n",
    "    return grp\n",
    "\n",
    "# Ensure output dir exists relative to a detected 'results' folder\n",
    "def results_dir():\n",
    "    for base in BASES:\n",
    "        p = base / \"results\" / \"plots\"\n",
    "        try:\n",
    "            p.mkdir(parents=True, exist_ok=True)\n",
    "            return p\n",
    "        except Exception:\n",
    "            pass\n",
    "    # fallback: current dir\n",
    "    p = Path.cwd() / \"results\" / \"plots\"\n",
    "    p.mkdir(parents=True, exist_ok=True)\n",
    "    return p\n",
    "OUTDIR = results_dir()\n",
    "print(\"Plots will be saved to:\", OUTDIR)\n"
   ]
  },
  {
   "cell_type": "markdown",
   "id": "256b2f82",
   "metadata": {},
   "source": [
    "## Load turns ablation CSVs"
   ]
  },
  {
   "cell_type": "code",
   "execution_count": 3,
   "id": "8e8c934f",
   "metadata": {},
   "outputs": [
    {
     "name": "stdout",
     "output_type": "stream",
     "text": [
      "[INFO] Found 4 files for results/abl_turns_none_*.csv under /Users/caizhuoang/Desktop/HKUST/Year 2/MSBD6910/LLM-Persuasion-Defense\n",
      "[INFO] Found 4 files for results/abl_turns_override_*.csv under /Users/caizhuoang/Desktop/HKUST/Year 2/MSBD6910/LLM-Persuasion-Defense\n"
     ]
    },
    {
     "data": {
      "text/html": [
       "<div>\n",
       "<style scoped>\n",
       "    .dataframe tbody tr th:only-of-type {\n",
       "        vertical-align: middle;\n",
       "    }\n",
       "\n",
       "    .dataframe tbody tr th {\n",
       "        vertical-align: top;\n",
       "    }\n",
       "\n",
       "    .dataframe thead th {\n",
       "        text-align: right;\n",
       "    }\n",
       "</style>\n",
       "<table border=\"1\" class=\"dataframe\">\n",
       "  <thead>\n",
       "    <tr style=\"text-align: right;\">\n",
       "      <th></th>\n",
       "      <th>defense</th>\n",
       "      <th>max_turns</th>\n",
       "      <th>PSR</th>\n",
       "      <th>RA</th>\n",
       "      <th>LocAcc</th>\n",
       "      <th>N</th>\n",
       "      <th>PSR_pct</th>\n",
       "      <th>RA_pct</th>\n",
       "    </tr>\n",
       "  </thead>\n",
       "  <tbody>\n",
       "    <tr>\n",
       "      <th>0</th>\n",
       "      <td>none</td>\n",
       "      <td>1</td>\n",
       "      <td>0.090909</td>\n",
       "      <td>0.0</td>\n",
       "      <td>1.0</td>\n",
       "      <td>11</td>\n",
       "      <td>9.090909</td>\n",
       "      <td>0.0</td>\n",
       "    </tr>\n",
       "    <tr>\n",
       "      <th>1</th>\n",
       "      <td>none</td>\n",
       "      <td>2</td>\n",
       "      <td>0.181818</td>\n",
       "      <td>0.0</td>\n",
       "      <td>1.0</td>\n",
       "      <td>11</td>\n",
       "      <td>18.181818</td>\n",
       "      <td>0.0</td>\n",
       "    </tr>\n",
       "    <tr>\n",
       "      <th>2</th>\n",
       "      <td>none</td>\n",
       "      <td>4</td>\n",
       "      <td>0.090909</td>\n",
       "      <td>0.0</td>\n",
       "      <td>1.0</td>\n",
       "      <td>11</td>\n",
       "      <td>9.090909</td>\n",
       "      <td>0.0</td>\n",
       "    </tr>\n",
       "    <tr>\n",
       "      <th>3</th>\n",
       "      <td>none</td>\n",
       "      <td>6</td>\n",
       "      <td>0.090909</td>\n",
       "      <td>0.0</td>\n",
       "      <td>1.0</td>\n",
       "      <td>11</td>\n",
       "      <td>9.090909</td>\n",
       "      <td>0.0</td>\n",
       "    </tr>\n",
       "    <tr>\n",
       "      <th>4</th>\n",
       "      <td>override</td>\n",
       "      <td>1</td>\n",
       "      <td>0.000000</td>\n",
       "      <td>0.0</td>\n",
       "      <td>1.0</td>\n",
       "      <td>11</td>\n",
       "      <td>0.000000</td>\n",
       "      <td>0.0</td>\n",
       "    </tr>\n",
       "    <tr>\n",
       "      <th>5</th>\n",
       "      <td>override</td>\n",
       "      <td>2</td>\n",
       "      <td>0.000000</td>\n",
       "      <td>0.0</td>\n",
       "      <td>1.0</td>\n",
       "      <td>11</td>\n",
       "      <td>0.000000</td>\n",
       "      <td>0.0</td>\n",
       "    </tr>\n",
       "    <tr>\n",
       "      <th>6</th>\n",
       "      <td>override</td>\n",
       "      <td>4</td>\n",
       "      <td>0.000000</td>\n",
       "      <td>0.0</td>\n",
       "      <td>1.0</td>\n",
       "      <td>11</td>\n",
       "      <td>0.000000</td>\n",
       "      <td>0.0</td>\n",
       "    </tr>\n",
       "    <tr>\n",
       "      <th>7</th>\n",
       "      <td>override</td>\n",
       "      <td>6</td>\n",
       "      <td>0.000000</td>\n",
       "      <td>0.0</td>\n",
       "      <td>1.0</td>\n",
       "      <td>11</td>\n",
       "      <td>0.000000</td>\n",
       "      <td>0.0</td>\n",
       "    </tr>\n",
       "  </tbody>\n",
       "</table>\n",
       "</div>"
      ],
      "text/plain": [
       "    defense  max_turns       PSR   RA  LocAcc   N    PSR_pct  RA_pct\n",
       "0      none          1  0.090909  0.0     1.0  11   9.090909     0.0\n",
       "1      none          2  0.181818  0.0     1.0  11  18.181818     0.0\n",
       "2      none          4  0.090909  0.0     1.0  11   9.090909     0.0\n",
       "3      none          6  0.090909  0.0     1.0  11   9.090909     0.0\n",
       "4  override          1  0.000000  0.0     1.0  11   0.000000     0.0\n",
       "5  override          2  0.000000  0.0     1.0  11   0.000000     0.0\n",
       "6  override          4  0.000000  0.0     1.0  11   0.000000     0.0\n",
       "7  override          6  0.000000  0.0     1.0  11   0.000000     0.0"
      ]
     },
     "metadata": {},
     "output_type": "display_data"
    }
   ],
   "source": [
    "\n",
    "turns_none = load_csvs_multi(\"results/abl_turns_none_*.csv\")\n",
    "turns_over = load_csvs_multi(\"results/abl_turns_override_*.csv\")\n",
    "\n",
    "if not turns_none.empty and \"defense\" not in turns_none.columns:\n",
    "    turns_none[\"defense\"] = \"none\"\n",
    "if not turns_over.empty and \"defense\" not in turns_over.columns:\n",
    "    turns_over[\"defense\"] = \"override\"\n",
    "\n",
    "frames = [df for df in [turns_none, turns_over] if not df.empty]\n",
    "turns_all = pd.concat(frames, ignore_index=True) if frames else pd.DataFrame()\n",
    "\n",
    "summary_turns = agg_turns(turns_all)\n",
    "display(summary_turns.sort_values([\"defense\",\"max_turns\"])) if not summary_turns.empty else print(\"[WARN] No turns data.\")\n"
   ]
  },
  {
   "cell_type": "markdown",
   "id": "fe0eb539",
   "metadata": {},
   "source": [
    "## PSR vs Turns"
   ]
  },
  {
   "cell_type": "code",
   "execution_count": 4,
   "id": "932448fa",
   "metadata": {},
   "outputs": [
    {
     "data": {
      "image/png": "[encoded data removed]",
      "text/plain": [
       "<Figure size 600x400 with 1 Axes>"
      ]
     },
     "metadata": {},
     "output_type": "display_data"
    },
    {
     "name": "stdout",
     "output_type": "stream",
     "text": [
      "Saved: /Users/caizhuoang/Desktop/HKUST/Year 2/MSBD6910/LLM-Persuasion-Defense/notebooks/results/plots/psr_vs_turns.png\n"
     ]
    }
   ],
   "source": [
    "\n",
    "if summary_turns.empty:\n",
    "    print(\"[WARN] No turns data to plot.\")\n",
    "else:\n",
    "    plt.figure(figsize=(6,4))\n",
    "    for defense in summary_turns[\"defense\"].unique():\n",
    "        sub = summary_turns[summary_turns[\"defense\"]==defense]\n",
    "        plt.plot(sub[\"max_turns\"], sub[\"PSR_pct\"], marker=\"o\", label=defense)\n",
    "    plt.xlabel(\"Max Turns\"); plt.ylabel(\"PSR (%)\"); plt.title(\"Persuasion Success vs Turns\")\n",
    "    plt.legend(); plt.tight_layout()\n",
    "    out = OUTDIR / \"psr_vs_turns.png\"\n",
    "    plt.savefig(out, dpi=200, bbox_inches=\"tight\"); plt.show()\n",
    "    print(\"Saved:\", out)\n"
   ]
  },
  {
   "cell_type": "markdown",
   "id": "43e8f9a9",
   "metadata": {},
   "source": [
    "## RA vs Turns"
   ]
  },
  {
   "cell_type": "code",
   "execution_count": 5,
   "id": "35db8c0e",
   "metadata": {},
   "outputs": [
    {
     "data": {
      "image/png": "[encoded data removed]",
      "text/plain": [
       "<Figure size 600x400 with 1 Axes>"
      ]
     },
     "metadata": {},
     "output_type": "display_data"
    },
    {
     "name": "stdout",
     "output_type": "stream",
     "text": [
      "Saved: /Users/caizhuoang/Desktop/HKUST/Year 2/MSBD6910/LLM-Persuasion-Defense/notebooks/results/plots/ra_vs_turns.png\n"
     ]
    }
   ],
   "source": [
    "\n",
    "if summary_turns.empty:\n",
    "    print(\"[WARN] No turns data to plot.\")\n",
    "else:\n",
    "    plt.figure(figsize=(6,4))\n",
    "    for defense in summary_turns[\"defense\"].unique():\n",
    "        sub = summary_turns[summary_turns[\"defense\"]==defense]\n",
    "        plt.plot(sub[\"max_turns\"], sub[\"RA_pct\"], marker=\"o\", label=defense)\n",
    "    plt.xlabel(\"Max Turns\"); plt.ylabel(\"RA (%)\"); plt.title(\"Rephrase (Persistence) vs Turns\")\n",
    "    plt.legend(); plt.tight_layout()\n",
    "    out = OUTDIR / \"ra_vs_turns.png\"\n",
    "    plt.savefig(out, dpi=200, bbox_inches=\"tight\"); plt.show()\n",
    "    print(\"Saved:\", out)\n"
   ]
  },
  {
   "cell_type": "markdown",
   "id": "abaf3031",
   "metadata": {},
   "source": [
    "## LocAcc vs Turns"
   ]
  },
  {
   "cell_type": "code",
   "execution_count": 6,
   "id": "45ef7eb1",
   "metadata": {},
   "outputs": [
    {
     "data": {
      "image/png": "[encoded data removed]",
      "text/plain": [
       "<Figure size 600x400 with 1 Axes>"
      ]
     },
     "metadata": {},
     "output_type": "display_data"
    },
    {
     "name": "stdout",
     "output_type": "stream",
     "text": [
      "Saved: /Users/caizhuoang/Desktop/HKUST/Year 2/MSBD6910/LLM-Persuasion-Defense/notebooks/results/plots/locacc_vs_turns.png\n"
     ]
    }
   ],
   "source": [
    "\n",
    "if summary_turns.empty:\n",
    "    print(\"[WARN] No turns data to plot.\")\n",
    "else:\n",
    "    plt.figure(figsize=(6,4))\n",
    "    for defense in summary_turns[\"defense\"].unique():\n",
    "        sub = summary_turns[summary_turns[\"defense\"]==defense]\n",
    "        plt.plot(sub[\"max_turns\"], sub[\"LocAcc\"], marker=\"o\", label=defense)\n",
    "    plt.xlabel(\"Max Turns\"); plt.ylabel(\"Locality Accuracy\"); plt.title(\"Locality vs Turns\")\n",
    "    plt.ylim(0, 1.05); plt.legend(); plt.tight_layout()\n",
    "    out = OUTDIR / \"locacc_vs_turns.png\"\n",
    "    plt.savefig(out, dpi=200, bbox_inches=\"tight\"); plt.show()\n",
    "    print(\"Saved:\", out)\n"
   ]
  },
  {
   "cell_type": "markdown",
   "id": "ccd964fd",
   "metadata": {},
   "source": [
    "## Order ablation (PSR per shuffle)"
   ]
  },
  {
   "cell_type": "code",
   "execution_count": 7,
   "id": "e8bb2510",
   "metadata": {},
   "outputs": [
    {
     "name": "stdout",
     "output_type": "stream",
     "text": [
      "[INFO] Found 5 files for results/abl_order_none_*.csv under /Users/caizhuoang/Desktop/HKUST/Year 2/MSBD6910/LLM-Persuasion-Defense\n",
      "[INFO] Found 5 files for results/abl_order_override_*.csv under /Users/caizhuoang/Desktop/HKUST/Year 2/MSBD6910/LLM-Persuasion-Defense\n"
     ]
    },
    {
     "data": {
      "text/html": [
       "<div>\n",
       "<style scoped>\n",
       "    .dataframe tbody tr th:only-of-type {\n",
       "        vertical-align: middle;\n",
       "    }\n",
       "\n",
       "    .dataframe tbody tr th {\n",
       "        vertical-align: top;\n",
       "    }\n",
       "\n",
       "    .dataframe thead th {\n",
       "        text-align: right;\n",
       "    }\n",
       "</style>\n",
       "<table border=\"1\" class=\"dataframe\">\n",
       "  <thead>\n",
       "    <tr style=\"text-align: right;\">\n",
       "      <th></th>\n",
       "      <th>defense</th>\n",
       "      <th>shuffle</th>\n",
       "      <th>PSR</th>\n",
       "    </tr>\n",
       "  </thead>\n",
       "  <tbody>\n",
       "    <tr>\n",
       "      <th>0</th>\n",
       "      <td>none</td>\n",
       "      <td>0</td>\n",
       "      <td>0.545455</td>\n",
       "    </tr>\n",
       "    <tr>\n",
       "      <th>1</th>\n",
       "      <td>none</td>\n",
       "      <td>1</td>\n",
       "      <td>1.000000</td>\n",
       "    </tr>\n",
       "    <tr>\n",
       "      <th>2</th>\n",
       "      <td>none</td>\n",
       "      <td>2</td>\n",
       "      <td>0.090909</td>\n",
       "    </tr>\n",
       "    <tr>\n",
       "      <th>3</th>\n",
       "      <td>none</td>\n",
       "      <td>3</td>\n",
       "      <td>0.090909</td>\n",
       "    </tr>\n",
       "    <tr>\n",
       "      <th>4</th>\n",
       "      <td>none</td>\n",
       "      <td>4</td>\n",
       "      <td>0.090909</td>\n",
       "    </tr>\n",
       "    <tr>\n",
       "      <th>5</th>\n",
       "      <td>override</td>\n",
       "      <td>0</td>\n",
       "      <td>0.000000</td>\n",
       "    </tr>\n",
       "    <tr>\n",
       "      <th>6</th>\n",
       "      <td>override</td>\n",
       "      <td>1</td>\n",
       "      <td>0.000000</td>\n",
       "    </tr>\n",
       "    <tr>\n",
       "      <th>7</th>\n",
       "      <td>override</td>\n",
       "      <td>2</td>\n",
       "      <td>0.000000</td>\n",
       "    </tr>\n",
       "    <tr>\n",
       "      <th>8</th>\n",
       "      <td>override</td>\n",
       "      <td>3</td>\n",
       "      <td>0.000000</td>\n",
       "    </tr>\n",
       "    <tr>\n",
       "      <th>9</th>\n",
       "      <td>override</td>\n",
       "      <td>4</td>\n",
       "      <td>0.000000</td>\n",
       "    </tr>\n",
       "  </tbody>\n",
       "</table>\n",
       "</div>"
      ],
      "text/plain": [
       "    defense  shuffle       PSR\n",
       "0      none        0  0.545455\n",
       "1      none        1  1.000000\n",
       "2      none        2  0.090909\n",
       "3      none        3  0.090909\n",
       "4      none        4  0.090909\n",
       "5  override        0  0.000000\n",
       "6  override        1  0.000000\n",
       "7  override        2  0.000000\n",
       "8  override        3  0.000000\n",
       "9  override        4  0.000000"
      ]
     },
     "metadata": {},
     "output_type": "display_data"
    }
   ],
   "source": [
    "\n",
    "order_none = load_csvs_multi(\"results/abl_order_none_*.csv\")\n",
    "order_over = load_csvs_multi(\"results/abl_order_override_*.csv\")\n",
    "\n",
    "def _get_shuffle(f):\n",
    "    base = Path(f).stem\n",
    "    if \"_s\" in base:\n",
    "        try: return int(base.split(\"_s\")[-1])\n",
    "        except Exception: return None\n",
    "    return None\n",
    "\n",
    "for df, tag in [(order_none,\"none\"), (order_over,\"override\")]:\n",
    "    if not df.empty:\n",
    "        if \"defense\" not in df.columns:\n",
    "            df[\"defense\"] = tag\n",
    "        df[\"shuffle\"] = df[\"__file__\"].apply(_get_shuffle)\n",
    "\n",
    "frames_o = [df for df in [order_none, order_over] if not df.empty]\n",
    "order_all = pd.concat(frames_o, ignore_index=True) if frames_o else pd.DataFrame()\n",
    "\n",
    "if order_all.empty:\n",
    "    print(\"[WARN] No order ablation CSVs found.\")\n",
    "else:\n",
    "    order_summary = order_all.groupby([\"defense\",\"shuffle\"], as_index=False)[\"PSR\"].mean()\n",
    "    display(order_summary.sort_values([\"defense\",\"shuffle\"]))\n"
   ]
  },
  {
   "cell_type": "code",
   "execution_count": 8,
   "id": "cb70f18e",
   "metadata": {},
   "outputs": [
    {
     "data": {
      "image/png": "[encoded data removed]",
      "text/plain": [
       "<Figure size 700x400 with 1 Axes>"
      ]
     },
     "metadata": {},
     "output_type": "display_data"
    },
    {
     "name": "stdout",
     "output_type": "stream",
     "text": [
      "Saved: /Users/caizhuoang/Desktop/HKUST/Year 2/MSBD6910/LLM-Persuasion-Defense/notebooks/results/plots/order_ablation_psr.png\n"
     ]
    }
   ],
   "source": [
    "\n",
    "if 'order_summary' in globals() and not order_summary.empty:\n",
    "    import numpy as np\n",
    "    plt.figure(figsize=(7,4))\n",
    "    shufs = sorted(order_summary[\"shuffle\"].dropna().unique())\n",
    "    width = 0.35\n",
    "    x_idx = np.arange(len(shufs))\n",
    "    y_none = [order_summary[(order_summary['defense']=='none') & (order_summary['shuffle']==s)]['PSR'].mean() if not order_summary[(order_summary['defense']=='none') & (order_summary['shuffle']==s)].empty else 0.0 for s in shufs]\n",
    "    y_over = [order_summary[(order_summary['defense']=='override') & (order_summary['shuffle']==s)]['PSR'].mean() if not order_summary[(order_summary['defense']=='override') & (order_summary['shuffle']==s)].empty else 0.0 for s in shufs]\n",
    "\n",
    "    plt.bar(x_idx - width/2, [v*100 for v in y_none], width, label='none')\n",
    "    plt.bar(x_idx + width/2, [v*100 for v in y_over], width, label='override')\n",
    "\n",
    "    plt.xticks(x_idx, [str(s) for s in shufs])\n",
    "    plt.xlabel(\"Shuffle index\"); plt.ylabel(\"PSR (%)\"); plt.title(\"Order Ablation: PSR by Shuffle\")\n",
    "    plt.legend(); plt.tight_layout()\n",
    "    out = OUTDIR / \"order_ablation_psr.png\"\n",
    "    plt.savefig(out, dpi=200, bbox_inches=\"tight\"); plt.show()\n",
    "    print(\"Saved:\", out)\n",
    "else:\n",
    "    print(\"[WARN] No order ablation data to plot.\")\n"
   ]
  },
  {
   "cell_type": "code",
   "execution_count": null,
   "id": "cfe8125d",
   "metadata": {},
   "outputs": [],
   "source": []
  }
 ],
 "metadata": {
  "kernelspec": {
   "display_name": "llm-persuasion-defense",
   "language": "python",
   "name": "python3"
  },
  "language_info": {
   "codemirror_mode": {
    "name": "ipython",
    "version": 3
   },
   "file_extension": ".py",
   "mimetype": "text/x-python",
   "name": "python",
   "nbconvert_exporter": "python",
   "pygments_lexer": "ipython3",
   "version": "3.10.18"
  }
 },
 "nbformat": 4,
 "nbformat_minor": 5
}
